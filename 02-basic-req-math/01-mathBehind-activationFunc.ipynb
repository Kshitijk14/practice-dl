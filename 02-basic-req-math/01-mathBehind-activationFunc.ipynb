{
 "cells": [
  {
   "cell_type": "code",
   "execution_count": 1,
   "metadata": {},
   "outputs": [],
   "source": [
    "import math"
   ]
  },
  {
   "cell_type": "markdown",
   "metadata": {},
   "source": [
    "# Sigmoid"
   ]
  },
  {
   "cell_type": "code",
   "execution_count": 2,
   "metadata": {},
   "outputs": [],
   "source": [
    "def sigmoid(x):\n",
    "    return 1 / (1 + math.exp(-x))"
   ]
  },
  {
   "cell_type": "code",
   "execution_count": 3,
   "metadata": {},
   "outputs": [
    {
     "name": "stdout",
     "output_type": "stream",
     "text": [
      "sigmoid function of 0: 0.5\n",
      "sigmoid function of 1: 0.7310585786300049\n",
      "sigmoid function of 50: 1.0\n",
      "sigmoid function of -1: 0.2689414213699951\n",
      "sigmoid function of -10: 4.5397868702434395e-05\n",
      "sigmoid function of 1000: 1.0\n",
      "sigmoid function of -56: 4.780892883885469e-25\n",
      "sigmoid function of 0.5: 0.6224593312018546\n"
     ]
    }
   ],
   "source": [
    "print(f\"sigmoid function of 0: {sigmoid(0)}\")\n",
    "print(f\"sigmoid function of 1: {sigmoid(1)}\")\n",
    "print(f\"sigmoid function of 50: {sigmoid(50)}\")\n",
    "print(f\"sigmoid function of -1: {sigmoid(-1)}\")\n",
    "print(f\"sigmoid function of -10: {sigmoid(-10)}\")\n",
    "print(f\"sigmoid function of 1000: {sigmoid(1000)}\")\n",
    "print(f\"sigmoid function of -56: {sigmoid(-56)}\")\n",
    "print(f\"sigmoid function of 0.5: {sigmoid(0.5)}\")"
   ]
  },
  {
   "cell_type": "markdown",
   "metadata": {},
   "source": [
    "# tanh"
   ]
  },
  {
   "cell_type": "code",
   "execution_count": 4,
   "metadata": {},
   "outputs": [],
   "source": [
    "def tanh(x):\n",
    "    return (math.exp(x) - math.exp(-x)) / (math.exp(x) + math.exp(-x))"
   ]
  },
  {
   "cell_type": "code",
   "execution_count": 5,
   "metadata": {},
   "outputs": [
    {
     "name": "stdout",
     "output_type": "stream",
     "text": [
      "tanh function of 0: 0.0\n",
      "tanh function of 1: 0.7615941559557649\n",
      "tanh function of 50: 1.0\n",
      "tanh function of -1: -0.7615941559557649\n",
      "tanh function of -10: -0.9999999958776926\n",
      "tanh function of 1000: 1.0\n",
      "tanh function of -56: -1.0\n",
      "tanh function of 0.5: 0.4621171572600098\n"
     ]
    }
   ],
   "source": [
    "print(f\"tanh function of 0: {tanh(0)}\")\n",
    "print(f\"tanh function of 1: {tanh(1)}\")\n",
    "print(f\"tanh function of 50: {tanh(50)}\")\n",
    "print(f\"tanh function of -1: {tanh(-1)}\")\n",
    "print(f\"tanh function of -10: {tanh(-10)}\")\n",
    "print(f\"tanh function of 1000: {tanh(100)}\")\n",
    "print(f\"tanh function of -56: {tanh(-56)}\")\n",
    "print(f\"tanh function of 0.5: {tanh(0.5)}\")"
   ]
  },
  {
   "cell_type": "markdown",
   "metadata": {},
   "source": [
    "# ReLU"
   ]
  },
  {
   "cell_type": "code",
   "execution_count": 6,
   "metadata": {},
   "outputs": [],
   "source": [
    "def relu(x):\n",
    "    return max(0,x)"
   ]
  },
  {
   "cell_type": "code",
   "execution_count": 7,
   "metadata": {},
   "outputs": [
    {
     "name": "stdout",
     "output_type": "stream",
     "text": [
      "relu function of 0: 0\n",
      "relu function of 1: 1\n",
      "relu function of 50: 50\n",
      "relu function of -1: 0\n",
      "relu function of -10: 0\n",
      "relu function of 1000: 100\n",
      "relu function of -56: 0\n",
      "relu function of 0.5: 0.5\n"
     ]
    }
   ],
   "source": [
    "print(f\"relu function of 0: {relu(0)}\")\n",
    "print(f\"relu function of 1: {relu(1)}\")\n",
    "print(f\"relu function of 50: {relu(50)}\")\n",
    "print(f\"relu function of -1: {relu(-1)}\")\n",
    "print(f\"relu function of -10: {relu(-10)}\")\n",
    "print(f\"relu function of 1000: {relu(100)}\")\n",
    "print(f\"relu function of -56: {relu(-56)}\")\n",
    "print(f\"relu function of 0.5: {relu(0.5)}\")"
   ]
  },
  {
   "cell_type": "markdown",
   "metadata": {},
   "source": [
    "# Leaky ReLU"
   ]
  },
  {
   "cell_type": "code",
   "execution_count": 8,
   "metadata": {},
   "outputs": [],
   "source": [
    "def leaky_relu(x):\n",
    "    return max(0.1*x,x)"
   ]
  },
  {
   "cell_type": "code",
   "execution_count": 9,
   "metadata": {},
   "outputs": [
    {
     "name": "stdout",
     "output_type": "stream",
     "text": [
      "leaky_relu function of 0: 0.0\n",
      "leaky_relu function of 1: 1\n",
      "leaky_relu function of 50: 50\n",
      "leaky_relu function of -1: -0.1\n",
      "leaky_relu function of -10: -1.0\n",
      "leaky_relu function of 1000: 100\n",
      "leaky_relu function of -56: -5.6000000000000005\n",
      "leaky_relu function of 0.5: 0.5\n"
     ]
    }
   ],
   "source": [
    "print(f\"leaky_relu function of 0: {leaky_relu(0)}\")\n",
    "print(f\"leaky_relu function of 1: {leaky_relu(1)}\")\n",
    "print(f\"leaky_relu function of 50: {leaky_relu(50)}\")\n",
    "print(f\"leaky_relu function of -1: {leaky_relu(-1)}\")\n",
    "print(f\"leaky_relu function of -10: {leaky_relu(-10)}\")\n",
    "print(f\"leaky_relu function of 1000: {leaky_relu(100)}\")\n",
    "print(f\"leaky_relu function of -56: {leaky_relu(-56)}\")\n",
    "print(f\"leaky_relu function of 0.5: {leaky_relu(0.5)}\")"
   ]
  }
 ],
 "metadata": {
  "kernelspec": {
   "display_name": "env",
   "language": "python",
   "name": "python3"
  },
  "language_info": {
   "codemirror_mode": {
    "name": "ipython",
    "version": 3
   },
   "file_extension": ".py",
   "mimetype": "text/x-python",
   "name": "python",
   "nbconvert_exporter": "python",
   "pygments_lexer": "ipython3",
   "version": "3.11.4"
  }
 },
 "nbformat": 4,
 "nbformat_minor": 2
}
